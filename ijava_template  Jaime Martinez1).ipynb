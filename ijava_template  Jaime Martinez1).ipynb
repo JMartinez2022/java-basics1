{
  "nbformat": 4,
  "nbformat_minor": 0,
  "metadata": {
    "colab": {
      "provenance": [],
      "private_outputs": true,
      "collapsed_sections": []
    },
    "kernelspec": {
      "name": "java",
      "display_name": "java"
    }
  },
  "cells": [
    {
      "cell_type": "markdown",
      "source": [
        " # Java template for Colaboratory notebooks"
      ],
      "metadata": {
        "id": "v9hXfeq_tmoc"
      }
    },
    {
      "cell_type": "code",
      "metadata": {
        "id": "DC4pJkyNfOF1"
      },
      "source": [
        "!apt update -q\n",
        "!apt-get install -q openjdk-11-jdk-headless\n",
        "!curl -L https://github.com/SpencerPark/IJava/releases/download/v1.3.0/ijava-1.3.0.zip -o ijava-kernel.zip\n",
        "!unzip -q ijava-kernel.zip -d ijava-kernel && cd ijava-kernel && python3 install.py --sys-prefix\n",
        "!jupyter kernelspec list"
      ],
      "execution_count": null,
      "outputs": []
    },
    {
      "cell_type": "code",
      "metadata": {
        "id": "bF2jPn3RfpfR"
      },
      "source": [
        "System.out.println(\"Hello World\");\n"
      ],
      "execution_count": null,
      "outputs": []
    },
    {
      "cell_type": "code",
      "metadata": {
        "id": "Y2BVNSNKgkUK"
      },
      "source": [
        "byte b = (byte)128;\n",
        "System.out.println(b);\n",
        "int k = b;\n",
        "System.out.println(b)"
      ],
      "execution_count": null,
      "outputs": []
    },
    {
      "cell_type": "code",
      "source": [
        "short s = 10;\n",
        "int n = 10;\n",
        "long l = 10;"
      ],
      "metadata": {
        "id": "1vdYbeh79RJT"
      },
      "execution_count": null,
      "outputs": []
    },
    {
      "cell_type": "code",
      "source": [
        "int m = (int)10l;"
      ],
      "metadata": {
        "id": "YHphBtGX-Dlm"
      },
      "execution_count": null,
      "outputs": []
    },
    {
      "cell_type": "code",
      "source": [
        "float f = 10.5f;"
      ],
      "metadata": {
        "id": "Lpp-b41y_1HT"
      },
      "execution_count": null,
      "outputs": []
    },
    {
      "cell_type": "code",
      "source": [
        "int p = (int)10.8;\n",
        "System.out.println(p);"
      ],
      "metadata": {
        "id": "xoGbXZKuGzt8"
      },
      "execution_count": null,
      "outputs": []
    },
    {
      "cell_type": "code",
      "source": [
        "char c= 'c';\n",
        "System.out.println(c)"
      ],
      "metadata": {
        "id": "VPb1940EHfUv"
      },
      "execution_count": null,
      "outputs": []
    },
    {
      "cell_type": "code",
      "source": [
        "int h = c;\n",
        "System.out.println(h)"
      ],
      "metadata": {
        "id": "wVw2g0v3IYpM"
      },
      "execution_count": null,
      "outputs": []
    },
    {
      "cell_type": "code",
      "source": [
        "int a = 'A';\n",
        "System.out.println(a);\n",
        "char t = (char)a;\n",
        "System.out.println(t);"
      ],
      "metadata": {
        "id": "qjzViq2kJCpo"
      },
      "execution_count": null,
      "outputs": []
    },
    {
      "cell_type": "code",
      "source": [
        "char u = 65;"
      ],
      "metadata": {
        "id": "SmAoZ7F-Jmkt"
      },
      "execution_count": null,
      "outputs": []
    },
    {
      "cell_type": "code",
      "source": [
        "byte g = (byte)(10 + 120);\n",
        "System.out.println(g)"
      ],
      "metadata": {
        "id": "8V8LsrRzKevC"
      },
      "execution_count": null,
      "outputs": []
    },
    {
      "cell_type": "code",
      "source": [
        "long x = 1000 + 10000;\n",
        "System.out.println(x)"
      ],
      "metadata": {
        "id": "SoS-IehEK4G7"
      },
      "execution_count": null,
      "outputs": []
    },
    {
      "cell_type": "code",
      "source": [
        "int x = (int) (10L + 10L);"
      ],
      "metadata": {
        "id": "ynNjK3YrMDqe"
      },
      "execution_count": null,
      "outputs": []
    },
    {
      "cell_type": "code",
      "source": [
        "boolean bol1 = false;\n",
        "boolean bol2 = true;\n",
        "System.out.println(bol1);\n",
        "System.out.println(bol2);"
      ],
      "metadata": {
        "id": "TUFEeDJAMbRY"
      },
      "execution_count": null,
      "outputs": []
    },
    {
      "cell_type": "code",
      "source": [
        "String mama = \"Hola como estas bb\";\n",
        "System.out.println(mama);"
      ],
      "metadata": {
        "id": "NWTpo-QNMz4J"
      },
      "execution_count": null,
      "outputs": []
    },
    {
      "cell_type": "code",
      "source": [
        "Scanner scn = new Scanner(System.in);\n",
        "scn.nextLine();"
      ],
      "metadata": {
        "id": "0pVAIImsNy68"
      },
      "execution_count": null,
      "outputs": []
    },
    {
      "cell_type": "code",
      "source": [
        "Scanner scn = new Scanner(System.in);\n",
        "scn.nextLine();"
      ],
      "metadata": {
        "id": "eMS_Sz8JOaAm"
      },
      "execution_count": null,
      "outputs": []
    },
    {
      "cell_type": "code",
      "source": [
        "int x = 6;\n",
        "int v = 36;\n",
        "//\"v es multiple de x\" si v es multiple de x\n",
        "//la operacion modulo %. ejemplo: 21 % 7 = 0\n",
        "// ejemplo: 16 % 5 = 1\n",
        "if (v % x == 0) }\n",
        "  System.out.println(\"v es multible de x\");\n",
        "  System.out.printf(\"v = %d %n\" , v);"
      ],
      "metadata": {
        "id": "wZwwTS1qOeM2"
      },
      "execution_count": null,
      "outputs": []
    },
    {
      "cell_type": "markdown",
      "source": [
        "# Nueva sección"
      ],
      "metadata": {
        "id": "6-SIm9HQJH51"
      }
    },
    {
      "cell_type": "code",
      "source": [
        "String mon = \"world\";\n",
        "int n = 55;\n",
        "System.out.printf(\"hello %s!!! %nBye Bye %d%n\" , mon, n);\n"
      ],
      "metadata": {
        "id": "GaSsbJ6UGh42"
      },
      "execution_count": null,
      "outputs": []
    },
    {
      "cell_type": "code",
      "source": [
        "System.out.printf(\"Numero deu mil milions = %,d %n\" , 1000000000);"
      ],
      "metadata": {
        "id": "Y43t8VG4IR9T"
      },
      "execution_count": null,
      "outputs": []
    },
    {
      "cell_type": "code",
      "source": [
        "System.out.printf(\"Numero pi = %5.2f%n\", 3.1415);"
      ],
      "metadata": {
        "id": "QASUzp06JJZr"
      },
      "execution_count": null,
      "outputs": []
    },
    {
      "cell_type": "code",
      "source": [
        "int dia = 1;\n",
        "int mes = 10;\n",
        "int any = 2017;\n",
        "System.out.printf(\"%02d/%2d/%4d%n\",dia, mes, any);"
      ],
      "metadata": {
        "id": "TVjiWUcoLKzT"
      },
      "execution_count": null,
      "outputs": []
    },
    {
      "cell_type": "markdown",
      "source": [
        "Blocs de codi\n"
      ],
      "metadata": {
        "id": "q9GvrQRbQCh5"
      }
    },
    {
      "cell_type": "code",
      "source": [
        "int n = 7; //es visible para todos los bloc fills\n",
        "{\n",
        "  //bloc de codi 1\n",
        "  System.out.printf(\"des del bloc de codi 1: n = %d %n\" ,n);\n",
        "int m = 10;\n",
        "}\n",
        "{\n",
        "  //bloc de codi 2 fill de l1\n",
        "    System.out.printf(\"des del bloc de codi 2: n = %d %n\" ,n);\n",
        "    System.out.printf(\"des del bloc de codi 2: n = %d %n\" ,n);\n",
        "}\n",
        "{\n",
        "  //bloc de codi 3 germa de \n",
        "  System.out.printf(\"des del bloc de codi 3: n = %d %n\" ,m);\n",
        "}\n",
        "\n",
        "System.out.printf(\"des del bloc de codi cel.la:n = %d %n\", n);"
      ],
      "metadata": {
        "id": "dSi-4uk-QEzU"
      },
      "execution_count": null,
      "outputs": []
    },
    {
      "cell_type": "markdown",
      "source": [
        "***EXAMEN DE PROGRAMACION***"
      ],
      "metadata": {
        "id": "CkyzYSyzLcUA"
      }
    },
    {
      "cell_type": "markdown",
      "source": [
        "**1:**"
      ],
      "metadata": {
        "id": "RopYIq06qZB5"
      }
    },
    {
      "cell_type": "markdown",
      "source": [
        "Declara dos variables de tipo byte, b0 y b1, y asignales respectivamente los valores 122 y 14:"
      ],
      "metadata": {
        "id": "rLI-0LiuM58i"
      }
    },
    {
      "cell_type": "markdown",
      "source": [
        "¿Qué resultado obtenemos? \n",
        "-136\n",
        "¿Por qué? \n",
        "Obtenemos el resultado de una suma comun\n",
        "¿De qué tipo de dato es la variable temporal creada por el notebook?\n",
        "Es interger\n",
        "//TOD0"
      ],
      "metadata": {
        "id": "CAp2JwjlM8OD"
      }
    },
    {
      "cell_type": "code",
      "source": [
        "byte b0 = 122; byte b1 = 14;\n",
        "int r = (int)(b0 + b1);\n",
        "System.out.printf(\"Resultado - %d%n\" ,r);"
      ],
      "metadata": {
        "id": "dp1uq4SNLvSU"
      },
      "execution_count": null,
      "outputs": []
    },
    {
      "cell_type": "markdown",
      "source": [
        "2."
      ],
      "metadata": {
        "id": "2K4VJpwGnZOW"
      }
    },
    {
      "cell_type": "markdown",
      "source": [
        "Declara una variable de tipo char llamada c, y asigna el valor 'a':\n",
        "**a**\n",
        "Declara una variable de tipo int, llamada n, y asignale el valor de la variable c: **97**\n",
        "**¿Qué resultado obtienes?**\n",
        "Obtengo un cambio de \"char a string\"\n",
        "**¿Por que?**\n",
        "Porque string puede tener caracteres en letras char no\n",
        "//TODO"
      ],
      "metadata": {
        "id": "TBqH_IEGRZfP"
      }
    },
    {
      "cell_type": "code",
      "source": [
        "char c = 'a';\n",
        "System.out.printf(\"Resultado en string %s%n\" ,c);\n",
        "int n = c;\n",
        "System.out.printf(\"Resultado %d%n\" ,n);"
      ],
      "metadata": {
        "id": "vHHV_YhqOmPw"
      },
      "execution_count": null,
      "outputs": []
    },
    {
      "cell_type": "markdown",
      "source": [
        "Ahora, declara una variable de tipo short, llamada s, y asignale el valor de la variable c:\n",
        "**¿Por qué ahora el resultado obtenido es diferente que en el caso anterior?**\n",
        "Porque se necesita forzar el short si no saldria error \n",
        "//TODO\n"
      ],
      "metadata": {
        "id": "Go_6UMN3T00D"
      }
    },
    {
      "cell_type": "code",
      "source": [
        "char c = 'a';\n",
        "short s = c;\n",
        "System.out.printf(\"Resultado %d%n\" ,s);"
      ],
      "metadata": {
        "id": "QqtO6a0USXwu"
      },
      "execution_count": null,
      "outputs": []
    },
    {
      "cell_type": "code",
      "source": [
        "char c = 'a';\n",
        "short s = (short) c;\n",
        "System.out.printf(\"Resultado %s%n\" ,s);"
      ],
      "metadata": {
        "id": "c6PpC6eOWhdc"
      },
      "execution_count": null,
      "outputs": []
    },
    {
      "cell_type": "markdown",
      "source": [
        "3."
      ],
      "metadata": {
        "id": "b3nB9qLenbHA"
      }
    },
    {
      "cell_type": "markdown",
      "source": [
        "Continuando con las variables de tipo char y short declaradas en el ejercicio 2, ahora ejecute:\n",
        "**¿Cómo se llama esto que estamos haciendo con la variable c? **\n",
        "Se llama casting(Forzar)  \n",
        "**¿Qué resultado obtenemos ahora? **\n",
        "Obtemos un resultado del forzado que seria \"97\" por los codigos de arriba\n",
        "**¿Por qué (qué está pasando)?**\n",
        "Porque al forzar el short ahora si da un resultado\n",
        "//TODO"
      ],
      "metadata": {
        "id": "6-v6Cv8eWnX_"
      }
    },
    {
      "cell_type": "code",
      "source": [
        "char c = 'a';\n",
        "short s = (short) c;\n",
        "System.out.printf(\"Resultado %d%n\" ,s);"
      ],
      "metadata": {
        "id": "EOueDaqoW9Fs"
      },
      "execution_count": null,
      "outputs": []
    },
    {
      "cell_type": "markdown",
      "source": [
        "4."
      ],
      "metadata": {
        "id": "JpNn6iN4ncXj"
      }
    },
    {
      "cell_type": "markdown",
      "source": [
        "Ejecuta el siguiente código en una celda del notebook:\n",
        "**¿Qué resultados obtienes? **\n",
        "-30536\n",
        "**¿Por qué?**\n",
        "Porque los 32000 se mantienen en positivo porque entran en el rango de los numeros positivos en cambio el 35000 no entra ya que el rango maximo de los positivos es 32767 entonces se tendria que elevar los 16 bits a 2 para que nos de un resultado de 65 536 y poder restarlo con el 35000 y nos daria el resultado final.\n",
        "//TODO"
      ],
      "metadata": {
        "id": "Bzrz0BtkcKja"
      }
    },
    {
      "cell_type": "code",
      "source": [
        "short s = (short)32000;\n",
        "short s= (short)35000;\n",
        "System.out.printf(\"Resultado %d%n\" ,s);"
      ],
      "metadata": {
        "id": "dzgC-eclXJxM"
      },
      "execution_count": null,
      "outputs": []
    },
    {
      "cell_type": "markdown",
      "source": [
        "5."
      ],
      "metadata": {
        "id": "UJwdNwFlpCAx"
      }
    },
    {
      "cell_type": "markdown",
      "source": [
        "Ejecuta el siguiente código con el jshell:\n",
        "Que tipo de Variable?\n",
        "Es una variable float porque tiene un decimal"
      ],
      "metadata": {
        "id": "CWuSM2xXc_jc"
      }
    },
    {
      "cell_type": "code",
      "source": [
        "var v = 5.0;\n",
        "var v0 = 5;\n",
        "System.out.printf(\"%f%n %d%n\" ,v ,v0 );\n",
        "var v1 = v + v0;\n",
        "System.out.printf(\"%1.1f%n\" , v1);\n",
        "var v1 = v + v0;\n",
        "System.out.printf(\"%f%n\", v1);"
      ],
      "metadata": {
        "id": "Pi-GVnxQdBQG"
      },
      "execution_count": null,
      "outputs": []
    },
    {
      "cell_type": "markdown",
      "source": [
        "8."
      ],
      "metadata": {
        "id": "SVemUGJJq3OR"
      }
    },
    {
      "cell_type": "markdown",
      "source": [
        "Declare dos variables de tipo char de la siguiente manera:\n",
        "El objetivo de este ejercicio es asignar el valor 'b' en una tercera variable de tipo char, pero sin usar el literal 'b', sino haciendo la suma de las variables c y c1, es decir\n",
        "**¿Qué está pasando? **\n",
        "Pues me saldria error si intento sumar 2 \"char\" \n",
        "**¿Cómo lo podemos solucionar con el fin de conseguir el objetivo de este ejercicio?**\n",
        "Intercambiando un char c2 a un int c2 y ya tendriamos el resultado\n",
        "//TODO"
      ],
      "metadata": {
        "id": "8oNS_tiDh3gy"
      }
    },
    {
      "cell_type": "code",
      "source": [
        "char c = 'a', c1 = 1;\n",
        "System.out.printf (\"%s%n %s%n\", c , c1);\n",
        "int c2 = c + c1;\n",
        "System.out.printf (\"%d%n\" , c2 ) "
      ],
      "metadata": {
        "id": "fCNi08U_iGEW"
      },
      "execution_count": null,
      "outputs": []
    },
    {
      "cell_type": "markdown",
      "source": [
        "9."
      ],
      "metadata": {
        "id": "Ees2RXZBq6ss"
      }
    },
    {
      "cell_type": "markdown",
      "source": [
        "Ejecuta la siguiente expresión y asignala a una variable h\n",
        "Ahora, asigna el valor guardado a la variable h, a otra variable de tipo float:\n",
        "**¿Qué obtenemos? **\n",
        "Obtenemos un error\n",
        "**¿Por qué?**\n",
        "Porque queremos sumar un float a double\n",
        "//TODO"
      ],
      "metadata": {
        "id": "6Zj4J-9ZmIhx"
      }
    },
    {
      "cell_type": "code",
      "source": [
        "var h = 4 * 4f + (4.0 + 4);\n",
        "System.out.printf (\"%1.1f%n\" , h );\n",
        "float f = h;\n",
        "System.out.printf (\"%f%n\" , f);"
      ],
      "metadata": {
        "id": "4UoVt1xhmNck"
      },
      "execution_count": null,
      "outputs": []
    },
    {
      "cell_type": "markdown",
      "source": [
        "Ahora escribe el cambio que hay que hacer en la expresión inicial (4 * 4f + (4.0 + 4)) para que la asignación del valor de h a f sea exitoso.\n",
        "Si forzamos a 4.0 a que sea un float ahora si tendriamos un mejor resultado\n",
        "//TODO"
      ],
      "metadata": {
        "id": "jLxte7tOptFU"
      }
    },
    {
      "cell_type": "code",
      "source": [
        "var h = 4 * 4f + (4.0f + 4);\n",
        "System.out.printf (\"%1.1f%n\" , h );\n",
        "float f = h;\n",
        "System.out.printf (\"%f%n\" , f);"
      ],
      "metadata": {
        "id": "2d2pmmZ6paGE"
      },
      "execution_count": null,
      "outputs": []
    },
    {
      "cell_type": "markdown",
      "source": [
        "10."
      ],
      "metadata": {
        "id": "K3nEgAz1ng1L"
      }
    },
    {
      "cell_type": "markdown",
      "source": [
        "A partir de las siguientes variables y asignaciones:\n",
        "Ejecuta el siguiente código:\n",
        "Explica los resultados obtenidos en cada caso:\n",
        "En el 1 esta correcto \n",
        "en el 2 es una suma asi que no me da el resultado asi que no me puede dar un true false\n",
        "en el 3 seria un tru false \n",
        "Y pues con me da error porque el 2 esta mal y como es un resultado en vertical se para en el segundo ya que esta mal y apenas se lo corrige ya todo saldria bien //TODO"
      ],
      "metadata": {
        "id": "VXDY-27qp2iG"
      }
    },
    {
      "cell_type": "code",
      "source": [
        "byte b0 = 4, b1 = -4, b2 = 12;\n",
        "\n",
        "boolean bol1 = b0 == b2 / 3;\n",
        "  System.out.printf (\"%b%n\" , bol1);\n",
        "boolean bol2 = b0 + b1;\n",
        "  System.out.printf (\"%b%n\" ,bol2);\n",
        "boolean bol3 = b0 + b1 > b2;\n",
        "  System.out.printf (\"%b%n\" ,bol3);"
      ],
      "metadata": {
        "id": "CzUTT7p6p5VY"
      },
      "execution_count": null,
      "outputs": []
    },
    {
      "cell_type": "code",
      "source": [
        "byte b0 = 4, b1 = -4, b2 = 12;\n",
        "\n",
        "boolean bol1 = b0 == b2 / 3;\n",
        "  System.out.printf (\"%b%n\" , bol1);\n",
        "boolean bol2 = b0 == b1;\n",
        "  System.out.printf (\"%b%n\" ,bol2);\n",
        "boolean bol3 = b0 + b1 > b2;\n",
        "  System.out.printf (\"%b%n\" ,bol3);"
      ],
      "metadata": {
        "id": "y48BVEKisqhw"
      },
      "execution_count": null,
      "outputs": []
    },
    {
      "cell_type": "code",
      "source": [
        "int edat = 12;\n",
        "\n",
        "if (edat >=18)\n",
        "  System.out.printf(\"Edat validad: es mayor de edad %n\");\n",
        "\n",
        "else if (edat<=18 && edat >=0)\n",
        "  System.out.printf(\"Edat invalidada pero este es menor y no puede %n\");\n",
        "else \n",
        "  System.out.printf(\"Edat invalidad, no has nascut %n\");\n",
        "\n",
        "//System.out.printf(\"edad valida es un adolecente %n\"); //de 12 a 17\n",
        "//System.out.printf(\"edad valida es un nen %n\"); //de 0 a 11"
      ],
      "metadata": {
        "id": "zRvXsoRi8w9C"
      },
      "execution_count": null,
      "outputs": []
    },
    {
      "cell_type": "code",
      "source": [
        "int edat = 12;\n",
        "\n",
        "if (edat >=18)\n",
        "  System.out.printf(\"Edat validad: es mayor de edad %n\");\n",
        "\n",
        "else if (edat<=18 && edat >=0)\n",
        "  System.out.printf(\"Edat invalidada pero este es menor y no puede %n\");\n",
        "else if (edat<=18 && edat >=0)\n",
        "  System.out.printf(\"Edat invalidada pero este es menor y no puede %n\");\n",
        "else \n",
        "  System.out.printf(\"Edat invalidad, no has nascut %n\");"
      ],
      "metadata": {
        "id": "l4B5wnJjBCEO"
      },
      "execution_count": null,
      "outputs": []
    }
  ]
}