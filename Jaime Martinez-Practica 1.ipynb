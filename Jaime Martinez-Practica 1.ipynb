{
  "nbformat": 4,
  "nbformat_minor": 0,
  "metadata": {
    "colab": {
      "provenance": [],
      "private_outputs": true,
      "collapsed_sections": []
    },
    "kernelspec": {
      "name": "java",
      "display_name": "java"
    }
  },
  "cells": [
    {
      "cell_type": "markdown",
      "source": [
        ": # Java template for **Colaboratory** notebooks"
      ],
      "metadata": {
        "id": "v9hXfeq_tmoc"
      }
    },
    {
      "cell_type": "markdown",
      "source": [],
      "metadata": {
        "id": "4jFr09qSKzmX"
      }
    },
    {
      "cell_type": "code",
      "metadata": {
        "id": "DC4pJkyNfOF1"
      },
      "source": [
        "!apt update -q\n",
        "!apt-get install -q openjdk-11-jdk-headless\n",
        "!curl -L https://github.com/SpencerPark/IJava/releases/download/v1.3.0/ijava-1.3.0.zip -o ijava-kernel.zip\n",
        "!unzip -q ijava-kernel.zip -d ijava-kernel && cd ijava-kernel && python3 install.py --sys-prefix\n",
        "!jupyter kernelspec list"
      ],
      "execution_count": null,
      "outputs": []
    },
    {
      "cell_type": "code",
      "metadata": {
        "id": "bF2jPn3RfpfR"
      },
      "source": [
        "System.out.println(\"Hello World\");\n"
      ],
      "execution_count": null,
      "outputs": []
    },
    {
      "cell_type": "code",
      "metadata": {
        "id": "Y2BVNSNKgkUK"
      },
      "source": [
        "byte b = (byte)128; \n",
        "System.out.println(b);\n"
      ],
      "execution_count": null,
      "outputs": []
    },
    {
      "cell_type": "code",
      "source": [
        "System.out.println(\"Hello World\");"
      ],
      "metadata": {
        "id": "ZadRueXt9Rrk"
      },
      "execution_count": null,
      "outputs": []
    },
    {
      "cell_type": "code",
      "source": [
        "System.out.println(b);"
      ],
      "metadata": {
        "id": "V6lFM-Hd9UP1"
      },
      "execution_count": null,
      "outputs": []
    },
    {
      "cell_type": "code",
      "source": [
        "byte b = -128;"
      ],
      "metadata": {
        "id": "SU9scQ509dTo"
      },
      "execution_count": null,
      "outputs": []
    },
    {
      "cell_type": "code",
      "source": [
        "int n = 10;\n",
        "short s = 10;\n",
        "long l= 10;"
      ],
      "metadata": {
        "id": "UNy2n-PN95bC"
      },
      "execution_count": null,
      "outputs": []
    },
    {
      "cell_type": "code",
      "source": [
        "int n = (int)10L; "
      ],
      "metadata": {
        "id": "7l38zEnU9-0x"
      },
      "execution_count": null,
      "outputs": []
    },
    {
      "cell_type": "code",
      "source": [
        "float f = 10.5f;\n"
      ],
      "metadata": {
        "id": "uEAzDPr-_yjB"
      },
      "execution_count": null,
      "outputs": []
    },
    {
      "cell_type": "code",
      "source": [
        "char  c = 'A';\n",
        "System.out.println(c);"
      ],
      "metadata": {
        "id": "sdIE-3foG8uD"
      },
      "execution_count": null,
      "outputs": []
    },
    {
      "cell_type": "code",
      "source": [
        "int  h = c;\n",
        "System.out.println(h);"
      ],
      "metadata": {
        "id": "k8HD0rH9IMOS"
      },
      "execution_count": null,
      "outputs": []
    },
    {
      "cell_type": "code",
      "source": [
        "int a = 'A' + 10;\n",
        "System.out.println(a);\n",
        "char f = (char)a;\n",
        "System.out.println(f);"
      ],
      "metadata": {
        "id": "ML2XHb5rJGde"
      },
      "execution_count": null,
      "outputs": []
    },
    {
      "cell_type": "code",
      "source": [
        "byte g = (byte) (10 + 120);\n",
        "System.out.println(g);\n"
      ],
      "metadata": {
        "id": "2cdkFWJsKiPW"
      },
      "execution_count": null,
      "outputs": []
    },
    {
      "cell_type": "code",
      "source": [
        "byte q = 10 + (byte)120;\n",
        "System.out.println(q);\n",
        "\n"
      ],
      "metadata": {
        "id": "xRjI4_Z6KxBy"
      },
      "execution_count": null,
      "outputs": []
    },
    {
      "cell_type": "code",
      "source": [
        "long x = (int)(20 + 5000);\n",
        "System.out.println(x);"
      ],
      "metadata": {
        "id": "HA_ijvT6Ldma"
      },
      "execution_count": null,
      "outputs": []
    },
    {
      "cell_type": "code",
      "source": [
        "boolean bol1 = false;\n",
        "boolean bol2 = true;\n",
        "System.out.println(bol1);\n",
        "System.out.println(bol2);"
      ],
      "metadata": {
        "id": "KQLeESV_MO-u"
      },
      "execution_count": null,
      "outputs": []
    },
    {
      "cell_type": "code",
      "source": [
        "String salutacio = \"Hola\";\n",
        "System.out.println(salutacio);"
      ],
      "metadata": {
        "id": "8cDZNpOPMh7u"
      },
      "execution_count": null,
      "outputs": []
    },
    {
      "cell_type": "code",
      "source": [
        "Scanner scn = new Scanner(System.in);\n",
        "scn.nextLine();"
      ],
      "metadata": {
        "id": "ezFMH_kCOM-g"
      },
      "execution_count": null,
      "outputs": []
    },
    {
      "cell_type": "markdown",
      "source": [
        "EXPRESIONES ARITMETICAS"
      ],
      "metadata": {
        "id": "ma177ZB4oNJS"
      }
    },
    {
      "cell_type": "code",
      "source": [
        "//SUMA Para imprimir ambas lineas, deberá agregarse la codificación System.out.println()\n",
        "System.out.println(10 + 9);\n",
        "//RESTA\n",
        "System.out.println(10 - 9);\n",
        "//Multiplicación\n",
        "System.out.println(10 * 9);\n",
        "//DIVISIÓN ENTERA\n",
        "System.out.println(10 / 9);\n",
        "//DIVISION DECIMAL\n",
        "System.out.println(10 / 9.0);\n",
        "//EN LA DIVISION DECIMAL, BASTA CON 1 QUE TENGA EL . PARA QUE FUNCIONE"
      ],
      "metadata": {
        "id": "d8HUGVODoV62"
      },
      "execution_count": null,
      "outputs": []
    },
    {
      "cell_type": "code",
      "source": [
        "int n = 4;\n",
        "int m = 2;\n",
        "int r= 2*(n / m) + ( n * m ); //expresión aritmética -> se evalua -> el resultado se asiga a la variable, en este caso \"r\"\n",
        "System.out.println(r);    "
      ],
      "metadata": {
        "id": "VIbhxjKAqtQg"
      },
      "execution_count": null,
      "outputs": []
    },
    {
      "cell_type": "markdown",
      "source": [
        "EXPRESIONES LÓGICAS (BOOLEANES)\n",
        "\n"
      ],
      "metadata": {
        "id": "Xw8R3lBqthI-"
      }
    },
    {
      "cell_type": "code",
      "source": [
        "boolean jo = true;\n",
        "boolean tu = false; \n",
        "\n",
        "boolean resultAnd = jo && tu; \n",
        "boolean resultOr = jo || tu;\n",
        "boolean resultNot = !jo;\n",
        "\n",
        "\n",
        "System.out.println(resultAnd);\n",
        "System.out.println(resultOr);\n",
        "System.out.println(resultNot);\n",
        "\n"
      ],
      "metadata": {
        "id": "78m54wt3tu86"
      },
      "execution_count": null,
      "outputs": []
    },
    {
      "cell_type": "markdown",
      "source": [
        "True & true = true\n",
        "\n",
        "True & falso = false\n",
        "\n",
        "False & falso = false\n",
        "\n",
        "\n",
        "True | true = true\n",
        "\n",
        "True | false = true\n",
        "\n",
        "False | False = false\n",
        "\n"
      ],
      "metadata": {
        "id": "v9rAr1Z40huY"
      }
    },
    {
      "cell_type": "markdown",
      "source": [
        "OPERADORES DE COMPARACION"
      ],
      "metadata": {
        "id": "lSbe0Pj514_K"
      }
    },
    {
      "cell_type": "code",
      "source": [
        "6 == 5; //El == es operador comparacion igualitat\n",
        "int n = 5; //Es operador assignación"
      ],
      "metadata": {
        "id": "NSvUZd1H16dq"
      },
      "execution_count": null,
      "outputs": []
    },
    {
      "cell_type": "code",
      "source": [
        "int x; // declaración\n",
        "int y = 6; // declaración de variable y assignación al número\n",
        "x = 6; // asignación\n",
        "\n",
        "\n",
        "System.out.println(x == y); //Igualdad\n",
        "System.out.println(x != y); //Diferencia\n",
        "System.out.println(x > y); //mas grande que\n",
        "System.out.println(x < y); //mas pequeño que\n",
        "System.out.println(x >= y); //mas grande o igual que\n",
        "System.out.println(x <= y); //mas pequeño o igual que\n"
      ],
      "metadata": {
        "id": "6z5IuPy62a_8"
      },
      "execution_count": null,
      "outputs": []
    },
    {
      "cell_type": "code",
      "source": [
        "int n = 5, m = 10;\n",
        "int r = n * m;\n",
        "System.out.println(r);"
      ],
      "metadata": {
        "id": "3aqfuLdz5SPR"
      },
      "execution_count": null,
      "outputs": []
    },
    {
      "cell_type": "code",
      "source": [
        "boolean jo = true, tu = false;\n",
        "boolean result = jo && tu;\n",
        "System.out.println(result);"
      ],
      "metadata": {
        "id": "D0e3kHHh5jme"
      },
      "execution_count": null,
      "outputs": []
    },
    {
      "cell_type": "code",
      "source": [
        "boolean res = 6 == 5;\n",
        "if (!res)\n",
        "  System.out.println(\"Res no es true\");\n",
        "else\n",
        "  System.out.println(\"Res no es false\");\n"
      ],
      "metadata": {
        "id": "d2iiUx1h6NLl"
      },
      "execution_count": null,
      "outputs": []
    },
    {
      "cell_type": "code",
      "source": [
        "if (res)\n"
      ],
      "metadata": {
        "id": "8lWoquuU7Yoj"
      },
      "execution_count": null,
      "outputs": []
    },
    {
      "cell_type": "code",
      "source": [
        "int num = 5;\n",
        "//true si el num está entre 10 i 20 inclosos.\n",
        "//false si no está \n",
        "if (num >= 10 && num <=20)\n",
        "  System.out.println(\"5 está entre 10 y 20\");\n",
        "else\n",
        "  System.out.println(\"5 no está entre 10 y 20\");\n",
        "  "
      ],
      "metadata": {
        "id": "6-gR35Ci7qso"
      },
      "execution_count": null,
      "outputs": []
    },
    {
      "cell_type": "code",
      "source": [
        "int x = 6;\n",
        "int v = 55;\n",
        "//\"v es multiple de x\" si v es multiple de x\n",
        "//\"v no es multiple de x\" si v no es multiple de x\n",
        "if (v % x == 0)\n",
        "  System.out.println(\"V es múltiple de x\");\n",
        "else\n",
        "  System.out.println(\"V no es múltiple de x\");"
      ],
      "metadata": {
        "id": "w2oSTLwh-yza"
      },
      "execution_count": null,
      "outputs": []
    },
    {
      "cell_type": "code",
      "source": [
        "int v = 35, x = 7;\n",
        "System.out.printf(\"v = %d, x = %d%n\", v, x); // La d es una variable de sustitución para tipo Interer, la n es para dar un salto de linea"
      ],
      "metadata": {
        "id": "6_MRzrPf_y0P"
      },
      "execution_count": null,
      "outputs": []
    },
    {
      "cell_type": "code",
      "source": [
        "int v = 55\n",
        "System.out.printf(\"Numero natural = %d%n\", v);"
      ],
      "metadata": {
        "id": "-CJGBACkEuvG"
      },
      "execution_count": null,
      "outputs": []
    },
    {
      "cell_type": "code",
      "source": [
        "System.out.printf(\"'%5.2f'%n\", 5.1473);"
      ],
      "metadata": {
        "id": "F_RPKsCzISNb"
      },
      "execution_count": null,
      "outputs": []
    },
    {
      "cell_type": "code",
      "source": [
        "System.out.printf(\"Numero pi = %.2f%n\", 3.1415);"
      ],
      "metadata": {
        "id": "PkpehMmMJHIB"
      },
      "execution_count": null,
      "outputs": []
    },
    {
      "cell_type": "code",
      "source": [
        "System.out.printf(\"Fecha actual %02d/%2d/%4d%n\", 04, 10, 2022)"
      ],
      "metadata": {
        "id": "mh-zYiUvJXt6"
      },
      "execution_count": null,
      "outputs": []
    },
    {
      "cell_type": "code",
      "source": [
        "//FOMRA CORRECTA\n",
        "int dia = 1;\n",
        "int mes = 10;\n",
        "int any = 2022;\n",
        "System.out.printf(\"%02d/%2d/%4d%n\", dia, mes, any); //se coloca el 0 adelante del indicador de cantidad de espacios."
      ],
      "metadata": {
        "id": "AvjEXFdLNWcj"
      },
      "execution_count": null,
      "outputs": []
    },
    {
      "cell_type": "markdown",
      "source": [
        "BLOCS DE CODIGO"
      ],
      "metadata": {
        "id": "iLW_gY3cP1Z7"
      }
    },
    {
      "cell_type": "code",
      "source": [
        "int n = 7 //Esta variable será visible en todos los bloques de código\n",
        "{\n",
        "  //BLOC DE CODI, SE PUEDEN PONER TANTAS INSTRUCCIONES COMO QUERAMOS.\n",
        "  {\n",
        "      //BLOC DE CODI HIJO\n",
        "  }\n",
        "}\n",
        "{\n",
        "  //BLOC DE CODI, HERMANOS DEL ANTERIOR\n",
        "\n",
        "}"
      ],
      "metadata": {
        "id": "JjvGWu75P31M"
      },
      "execution_count": null,
      "outputs": []
    },
    {
      "cell_type": "markdown",
      "source": [
        "**Pregunta 1**\n",
        "\n",
        "Declara dues variables de tipus byte, b0 i b1, i assigna-lis respectivament els valors 122 i 14:\n",
        "\n",
        "byte b0 = 122; byte b1 = 14;\n",
        "Suma les dues variables, sense assignar el resultat a cap variable (jshell l'assignarà automàticament a un variable temporal, que comença per $):\n",
        "\n",
        "b0 + b1\n"
      ],
      "metadata": {
        "id": "6UMVdBSWLpw_"
      }
    },
    {
      "cell_type": "code",
      "source": [
        "byte b0 = 122;\n",
        "byte b1 = 14;\n",
        "\n",
        "System.out.printf(\"RESULTADO = %d%n\", b0 + b1)"
      ],
      "metadata": {
        "id": "sOsUo2FAPF9f"
      },
      "execution_count": null,
      "outputs": []
    },
    {
      "cell_type": "markdown",
      "source": [
        "Quin resultat obtenim?\n",
        "**El resultado es 136** \n",
        "\n",
        "Per què? \n",
        "**Porque es una suma simple**\n",
        "\n",
        "De quin tipus de dada és la variable temporal creada pel notebook?\n",
        "**Integer**"
      ],
      "metadata": {
        "id": "Ai6EoAR1PZBD"
      }
    },
    {
      "cell_type": "code",
      "source": [
        "byte b0 = 122; byte b1 = 14;\n",
        "int r = (int)(b0 + b1);\n",
        "System.out.printf(\"Resultado = %d%n\", r);"
      ],
      "metadata": {
        "id": "9iBR0bVLLxC8"
      },
      "execution_count": null,
      "outputs": []
    },
    {
      "cell_type": "markdown",
      "source": [
        "**Pregunta 2**\n",
        "\n",
        "Declara una variable de tipus char anomenada c, i assignali el valor 'a':\n",
        "\n",
        "char c = 'a';\n",
        "Declara una variable de tipus int, anomenada n, i assigna-li el valor de la variable c:\n",
        "\n",
        "int n = c;\n",
        "Quin resultat obtens? Per què?"
      ],
      "metadata": {
        "id": "OgtYPbKdP03M"
      }
    },
    {
      "cell_type": "code",
      "source": [
        "char c = 'a'; \n",
        "  System.out.printf(\"STRING = %s%n\", c); // Imprimir en tipo string\n",
        "int n = c;\n",
        "  System.out.printf(\"RESULTADO = %d%n\", n)"
      ],
      "metadata": {
        "id": "rkikEQlYP37N"
      },
      "execution_count": null,
      "outputs": []
    },
    {
      "cell_type": "markdown",
      "source": [
        "**El resultado es tipo INTEGER, debido a que se cambia de char a int, entonces el resultado se visualiza como el número que representa a la letra**"
      ],
      "metadata": {
        "id": "o2TUhmnyUePm"
      }
    },
    {
      "cell_type": "markdown",
      "source": [
        "Ara, declara una variable de tipus short, anomenada s, i assigna-li el valor de la variable c:\n",
        "\n",
        "short s = c;"
      ],
      "metadata": {
        "id": "WlbF2BqGSgLs"
      }
    },
    {
      "cell_type": "code",
      "source": [
        "char c = 'a';\n",
        "short s = c;\n",
        " System.out.printf(\"%d%n\", s)"
      ],
      "metadata": {
        "id": "LzABpSVXShKb"
      },
      "execution_count": null,
      "outputs": []
    },
    {
      "cell_type": "markdown",
      "source": [
        "**Nos da un error, debido a que short es un tipo de dato menor a integer, por lo tanto lo que se tendría que hacer es forzarlo.**\n"
      ],
      "metadata": {
        "id": "Qs7bX6SrUcDo"
      }
    },
    {
      "cell_type": "code",
      "source": [
        "char c = 'a';\n",
        "short s = (short) c;\n",
        " System.out.printf(\"%d%n\", s)"
      ],
      "metadata": {
        "id": "hyFOsn3BWS8O"
      },
      "execution_count": null,
      "outputs": []
    },
    {
      "cell_type": "markdown",
      "source": [
        "**Pregunta 3**\n",
        "\n",
        "Continuant amb les variables de tipus char i short declarades a l'exercici 2, ara executeu:\n",
        "\n",
        "short s = (short)c;"
      ],
      "metadata": {
        "id": "67zzdJYRWXCL"
      }
    },
    {
      "cell_type": "code",
      "source": [
        "char c = 'a';\n",
        "short s = (short)c;\n",
        " System.out.printf(\"%d%n\", s)"
      ],
      "metadata": {
        "id": "Fu0_FRyvWbUo"
      },
      "execution_count": null,
      "outputs": []
    },
    {
      "cell_type": "markdown",
      "source": [
        "Com s'anomena això que estem fent amb la variable c? Quin resultat obtenim ara? Per què (què està passant)?\n",
        "\n",
        "**Se le denomina casting(forzar), obtenemos un resultado correcto, debido a que forzamos al short a poder realizar esta operación.**"
      ],
      "metadata": {
        "id": "3VE68V8fWq4o"
      }
    },
    {
      "cell_type": "markdown",
      "source": [
        "**Pregunta 4**\n",
        "\n",
        "Executa el següent codi en una cel·la del notebook:\n",
        "\n",
        "short s = (short)32000;\n",
        "\n",
        "short s = (short)35000;"
      ],
      "metadata": {
        "id": "ipkdNtDcX_NI"
      }
    },
    {
      "cell_type": "code",
      "source": [
        "short s = (short)32000;\n",
        "  System.out.printf(\"%d%n\", s);\n",
        "\n",
        "short s = (short)35000;\n",
        "  System.out.printf(\"%d%n\", s);"
      ],
      "metadata": {
        "id": "uXmZZ6vkYEov"
      },
      "execution_count": null,
      "outputs": []
    },
    {
      "cell_type": "markdown",
      "source": [
        "**Quins resultats obtens? Per què?**\n",
        "\n",
        "Los 32000 se muestra en positivo, porque está dentro del rango de valores permitidos.\n",
        "\n",
        "El -30536 se muestra en negativo, porque se encuentra fuera del rango, y se hace la conversión del total en negativo (-65536) de su capacidad menos (35000) del número que buscamos, y nos da como resultado \"**-30536**\""
      ],
      "metadata": {
        "id": "2nq3ayyEalQa"
      }
    },
    {
      "cell_type": "markdown",
      "source": [
        "**Pregunta 5**\n",
        "\n",
        "Executa el següent codi amb el jshell:\n",
        "\n",
        "var v = 5.0;\n",
        "var v0 = 5;"
      ],
      "metadata": {
        "id": "IEl41kb1c0OO"
      }
    },
    {
      "cell_type": "code",
      "source": [
        "var v = 5.0;\n",
        "  System.out.printf(\"Es una varialbe tipo float: %.1f%n\", v);\n",
        "var v0 = 5;\n",
        "  System.out.printf(\"Es una varialbe tipo integer: %d%n\", v0);\n"
      ],
      "metadata": {
        "id": "ZBJ1G59_dKxF"
      },
      "execution_count": null,
      "outputs": []
    },
    {
      "cell_type": "code",
      "source": [
        "var v = 5.0;\n",
        "var v0 = 5;\n",
        "  var v1 = v + v0\n",
        "  System.out.printf(\"Resultado = %.1f%n\", v1)"
      ],
      "metadata": {
        "id": "jXXPU5PJePwJ"
      },
      "execution_count": null,
      "outputs": []
    },
    {
      "cell_type": "markdown",
      "source": [
        "De quin tipus de dada és la variable v1?\n",
        "**De tipo Float.** \n",
        "\n",
        "Per què (què està passant en fer-se la suma)?\n",
        "**Porque si se suma un float con un integer, por jerarquía el resultado será float.**"
      ],
      "metadata": {
        "id": "3QZzd9wbfN39"
      }
    },
    {
      "cell_type": "markdown",
      "source": [
        "**Pregunta 8**\n",
        "\n",
        "Declareu dues variables de tipus char de la següent manera:\n",
        "\n",
        "char c = 'a', c1 = 1;\n",
        "\n",
        "L'objectiu d'aquest exercici és assignar el valor 'b' en una tercera variable de tipus char, però sense usar el literal 'b', sinó fent la suma de les variables c i c1, és a dir:\n",
        "\n",
        "char c2 = c + c1;"
      ],
      "metadata": {
        "id": "Dqth-EQKhQH9"
      }
    },
    {
      "cell_type": "code",
      "source": [
        "char c = 'a'; c1 = 1;\n",
        "char c2 = c + c1; \n",
        "  System.out.printf(\"Resultado = %s%n\", c2)\n"
      ],
      "metadata": {
        "id": "F19SrgvYibxH"
      },
      "execution_count": null,
      "outputs": []
    },
    {
      "cell_type": "markdown",
      "source": [
        "Què està passant? \n",
        "\n",
        "**Nos sale un error, debido a que la suma no se puede hacer de tipo char**\n",
        "\n",
        "Com ho podem solucionar per tal d'aconseguir l'objectiu d'aquest exercici?\n",
        "**Sustituyendo el \"char c2\" por \"int c2\".**"
      ],
      "metadata": {
        "id": "-T7aJM2alYR4"
      }
    },
    {
      "cell_type": "code",
      "source": [
        "char c = 'a'; c1 = 1;\n",
        "int c2 = c + c1; \n",
        "  System.out.printf(\"Resultado = %d%n\", c2)"
      ],
      "metadata": {
        "id": "o_CHmitAlswW"
      },
      "execution_count": null,
      "outputs": []
    },
    {
      "cell_type": "markdown",
      "source": [
        "**Pregunta 9**\n",
        "\n",
        "Executa la següent expressió i assigna-la a una variable h:\n",
        "\n",
        "var h = 4 * 4f + (4.0 + 4);\n",
        "\n",
        "Ara, assigna el valor guardat a la variable h, a una altra variable de tipus float:\n",
        "\n",
        "float f = h;"
      ],
      "metadata": {
        "id": "WgPJnOLWl6iq"
      }
    },
    {
      "cell_type": "code",
      "source": [
        "var h = (4 * 4f + (4.0 + 4));\n",
        "  System.out.printf(\"%f%n\", h);\n",
        "\n",
        "float f = h;\n",
        "  System.out.printf(\"%.1f%n\", f)"
      ],
      "metadata": {
        "id": "Kal3lqnyl-qv"
      },
      "execution_count": null,
      "outputs": []
    },
    {
      "cell_type": "markdown",
      "source": [
        "Què obtenim? Per què?\n",
        "\n",
        "**Obtenemos un error de incompatibildad de tipos de datos, debido a que el \"4,0\" de la operación inicial no se ha forzado como float, entonces la única forma de imprimirlo es como \"doble f = h\". Entonces, se debe hacer el \"4.0f\"**"
      ],
      "metadata": {
        "id": "aCUa_v7kov1O"
      }
    },
    {
      "cell_type": "code",
      "source": [
        "var h = 4 * 4f + (4.0f + 4);\n",
        "  System.out.printf(\"%f%n\", h);\n",
        "\n",
        "float f = h;\n",
        "  System.out.printf(\"%.1f%n\", f)"
      ],
      "metadata": {
        "id": "0eYKwlmyo4Cj"
      },
      "execution_count": null,
      "outputs": []
    },
    {
      "cell_type": "markdown",
      "source": [
        "**Ahora la operación se resuelve de forma correcta.**"
      ],
      "metadata": {
        "id": "vMW-STjypAhb"
      }
    },
    {
      "cell_type": "markdown",
      "source": [
        "**Pregunta 10**\n",
        "\n",
        "A partir de les següents variables i assignacions:"
      ],
      "metadata": {
        "id": "O5cqNeVTpwA7"
      }
    },
    {
      "cell_type": "code",
      "source": [
        "byte b0 = 4, b1 = -4, b2 = 12;\n",
        "  boolean bol1 = b0 == b2 / 3;\n",
        "    System.out.printf(\"%b%n\", bol1);\n",
        "  boolean bol2 = b0 + b1;\n",
        "    System.out.printf(\"%b%n\", bol2); \n",
        "  boolean bol3 = b0 + b1 > b2;\n",
        "    System.out.printf(\"%b%n\", bol3);"
      ],
      "metadata": {
        "id": "ZmJbONt2py63"
      },
      "execution_count": null,
      "outputs": []
    },
    {
      "cell_type": "markdown",
      "source": [
        "**El primero al haber una comparación, es correcto debido a que es boolean.**\n",
        "\n",
        "**El segundo al ser una suma, no puede ser boolean.**\n",
        "\n",
        "**El tercero es una comparación correcta, pero al leerse de manera de cascada, al no resolver el error de arriba, no puede mostrarse el resultado de abajo hasta que se corrija.**"
      ],
      "metadata": {
        "id": "yH7xcaBQsAdK"
      }
    }
  ]
}